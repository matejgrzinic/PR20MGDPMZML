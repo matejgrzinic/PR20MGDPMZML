{
 "cells": [
  {
   "cell_type": "code",
   "execution_count": 1,
   "metadata": {},
   "outputs": [],
   "source": [
    "import pandas as pd\n",
    "import numpy as np"
   ]
  },
  {
   "cell_type": "code",
   "execution_count": 2,
   "metadata": {},
   "outputs": [],
   "source": [
    "steam = pd.read_csv(\"Data/steam.csv\")\n"
   ]
  },
  {
   "cell_type": "code",
   "execution_count": 3,
   "metadata": {},
   "outputs": [],
   "source": [
    "from sklearn.linear_model import LinearRegression, Lasso, Ridge\n",
    "from sklearn.metrics import mean_squared_error, mean_absolute_error\n",
    "import sklearn\n",
    "from sklearn.utils import shuffle\n",
    "from sklearn import svm\n",
    "from sklearn import linear_model\n",
    "from sklearn import metrics\n",
    "from sklearn.neighbors import KNeighborsClassifier \n",
    "from sklearn.tree import DecisionTreeClassifier\n",
    "from sklearn.dummy import DummyClassifier\n",
    "from sklearn.naive_bayes import GaussianNB"
   ]
  },
  {
   "cell_type": "code",
   "execution_count": 4,
   "metadata": {},
   "outputs": [],
   "source": [
    "steam = pd.read_csv(\"Data/steam.csv\")\n",
    "#steam = steam[steam[\"owners\"] != \"0-20000\"]\n",
    "\n",
    "s = {'0-20000': 10000, '20000-50000': 35000, '50000-100000': 75000, '100000-200000': 150000, '200000-500000': 350000, '500000-1000000': 750000, '1000000-2000000': 1500000, '2000000-5000000': 3500000, '5000000-10000000': 7500000, '10000000-20000000': 15000000, '20000000-50000000': 35000000, '50000000-100000000': 75000000, '100000000-200000000': 150000000}\n",
    "\n",
    "steam[\"owners\"].replace(s, inplace=True)\n",
    "None"
   ]
  },
  {
   "cell_type": "code",
   "execution_count": 5,
   "metadata": {},
   "outputs": [],
   "source": [
    "X = steam[[\"average_playtime\", \"median_playtime\", \"price\", \"achievements\", \"positive_ratings\", \"negative_ratings\", \"required_age\", \"english\"]]\n",
    "Y = steam[\"owners\"]"
   ]
  },
  {
   "cell_type": "code",
   "execution_count": 6,
   "metadata": {},
   "outputs": [
    {
     "output_type": "execute_result",
     "data": {
      "text/plain": "(0.613038785836316, 466544288528.53406, 132784.85573758048)"
     },
     "metadata": {},
     "execution_count": 6
    }
   ],
   "source": [
    "x_train, x_test, y_train, y_test = sklearn.model_selection.train_test_split(X, Y, test_size=0.25)\n",
    "linear = linear_model.LinearRegression()\n",
    "linear.fit(x_train, y_train)\n",
    "hx = linear.predict(x_test)\n",
    "tmse = mean_squared_error(hx, y_test)\n",
    "tmae = mean_absolute_error(hx, y_test) \n",
    "acc = linear.score(x_test, y_test)\n",
    "(acc, tmse, tmae)"
   ]
  },
  {
   "cell_type": "code",
   "execution_count": 7,
   "metadata": {},
   "outputs": [
    {
     "output_type": "stream",
     "name": "stdout",
     "text": "0.7169448958487222 87097.72492244054\n"
    }
   ],
   "source": [
    "avg_acc = 0\n",
    "avg_mae = 0\n",
    "n = 10\n",
    "\n",
    "for _ in range(n):\n",
    "    x_train, x_test, y_train, y_test = sklearn.model_selection.train_test_split(X, Y, test_size=0.25)\n",
    "    clf = svm.SVC()\n",
    "    clf.fit(x_train, y_train)\n",
    "\n",
    "    y_pred = clf.predict(x_test)\n",
    "\n",
    "    acc = metrics.accuracy_score(y_test, y_pred)    \n",
    "    tmae = mean_absolute_error(y_pred, y_test) \n",
    "\n",
    "    avg_acc += acc   \n",
    "    avg_mae += tmae\n",
    "\n",
    "print(avg_acc/n, avg_mae/n)"
   ]
  },
  {
   "cell_type": "code",
   "execution_count": 8,
   "metadata": {},
   "outputs": [
    {
     "output_type": "stream",
     "name": "stdout",
     "text": "0.7306840005909292 83816.14714137981\n"
    }
   ],
   "source": [
    "avg_acc = 0\n",
    "avg_mae = 0\n",
    "n = 10\n",
    "\n",
    "for _ in range(n):\n",
    "    x_train, x_test, y_train, y_test = sklearn.model_selection.train_test_split(X, Y, test_size=0.25)\n",
    "\n",
    "    model = KNeighborsClassifier(3)\n",
    "    model.fit(x_train, y_train)\n",
    "\n",
    "    y_pred = model.predict(x_test)\n",
    "\n",
    "    acc = metrics.accuracy_score(y_test, y_pred)\n",
    "    tmae = mean_absolute_error(y_pred, y_test) \n",
    "\n",
    "    avg_acc += acc\n",
    "    avg_mae += tmae\n",
    "\n",
    "print(avg_acc/n, avg_mae/n)"
   ]
  },
  {
   "cell_type": "code",
   "execution_count": 9,
   "metadata": {},
   "outputs": [
    {
     "output_type": "stream",
     "name": "stdout",
     "text": "0.741970749002807 84256.75875313931\n"
    }
   ],
   "source": [
    "avg_acc = 0\n",
    "avg_mae = 0\n",
    "n = 10\n",
    "\n",
    "for _ in range(n):\n",
    "    x_train, x_test, y_train, y_test = sklearn.model_selection.train_test_split(X, Y, test_size=0.25)\n",
    "\n",
    "    model = KNeighborsClassifier(5)\n",
    "    model.fit(x_train, y_train)\n",
    "\n",
    "    y_pred = model.predict(x_test)\n",
    "\n",
    "    acc = metrics.accuracy_score(y_test, y_pred)\n",
    "    tmae = mean_absolute_error(y_pred, y_test) \n",
    "\n",
    "    avg_acc += acc\n",
    "    avg_mae += tmae\n",
    "\n",
    "print(avg_acc/n, avg_mae/n)"
   ]
  },
  {
   "cell_type": "code",
   "execution_count": 10,
   "metadata": {},
   "outputs": [
    {
     "output_type": "stream",
     "name": "stdout",
     "text": "0.7437435367114789 77943.93558871326\n"
    }
   ],
   "source": [
    "avg_acc = 0\n",
    "avg_mae = 0\n",
    "n = 10\n",
    "\n",
    "for _ in range(n):\n",
    "    x_train, x_test, y_train, y_test = sklearn.model_selection.train_test_split(X, Y, test_size=0.25)\n",
    "\n",
    "    model = KNeighborsClassifier(7)\n",
    "    model.fit(x_train, y_train)\n",
    "\n",
    "    y_pred = model.predict(x_test)\n",
    "\n",
    "    acc = metrics.accuracy_score(y_test, y_pred)\n",
    "    tmae = mean_absolute_error(y_pred, y_test) \n",
    "\n",
    "    avg_acc += acc\n",
    "    avg_mae += tmae\n",
    "\n",
    "print(avg_acc/n, avg_mae/n)"
   ]
  },
  {
   "cell_type": "code",
   "execution_count": 11,
   "metadata": {},
   "outputs": [
    {
     "output_type": "stream",
     "name": "stdout",
     "text": "0.7239326340670705 85049.93352046094\n"
    }
   ],
   "source": [
    "avg_acc = 0\n",
    "avg_mae = 0\n",
    "n = 10\n",
    "\n",
    "for _ in range(n):\n",
    "    x_train, x_test, y_train, y_test = sklearn.model_selection.train_test_split(X, Y, test_size=0.25)\n",
    "\n",
    "    model = DecisionTreeClassifier(criterion=\"entropy\", max_depth=None)\n",
    "    model.fit(x_train, y_train)\n",
    "\n",
    "    y_pred = model.predict(x_test)\n",
    "\n",
    "    acc = metrics.accuracy_score(y_test, y_pred)\n",
    "    tmae = mean_absolute_error(y_pred, y_test) \n",
    "    \n",
    "    avg_acc += acc   \n",
    "    avg_mae += tmae\n",
    "\n",
    "print(avg_acc/n, avg_mae/n)"
   ]
  },
  {
   "cell_type": "code",
   "execution_count": 12,
   "metadata": {},
   "outputs": [
    {
     "output_type": "stream",
     "name": "stdout",
     "text": "0.7263997636283055 96714.06411582213\n"
    }
   ],
   "source": [
    "avg_acc = 0\n",
    "avg_mae = 0\n",
    "n = 10\n",
    "\n",
    "for _ in range(n):\n",
    "    x_train, x_test, y_train, y_test = sklearn.model_selection.train_test_split(X, Y, test_size=0.25)\n",
    "\n",
    "    model = GaussianNB()\n",
    "    model.fit(x_train, y_train)\n",
    "\n",
    "    y_pred = model.predict(x_test)\n",
    "\n",
    "    acc = metrics.accuracy_score(y_test, y_pred)\n",
    "    tmae = mean_absolute_error(y_pred, y_test) \n",
    "\n",
    "    avg_acc += acc\n",
    "    avg_mae += tmae\n",
    "\n",
    "print(avg_acc/n, avg_mae/n)"
   ]
  },
  {
   "cell_type": "code",
   "execution_count": 13,
   "metadata": {},
   "outputs": [
    {
     "output_type": "stream",
     "name": "stdout",
     "text": "0.6862165755650761 138219.08701433003\n"
    }
   ],
   "source": [
    "x_train, x_test, y_train, y_test = sklearn.model_selection.train_test_split(X, Y, test_size=0.25)\n",
    "\n",
    "model = DummyClassifier(strategy=\"most_frequent\")\n",
    "model.fit(x_train, y_train)\n",
    "\n",
    "y_pred = model.predict(x_test)\n",
    "\n",
    "acc = metrics.accuracy_score(y_test, y_pred)\n",
    "tmae = mean_absolute_error(y_pred, y_test) \n",
    "print(acc, tmae)"
   ]
  },
  {
   "cell_type": "code",
   "execution_count": 14,
   "metadata": {},
   "outputs": [
    {
     "output_type": "execute_result",
     "data": {
      "text/plain": "{0: 18596,\n 20000: 3059,\n 50000: 1695,\n 100000: 1386,\n 200000: 1272,\n 500000: 513,\n 1000000: 288,\n 2000000: 193,\n 5000000: 46,\n 10000000: 21,\n 20000000: 3,\n 50000000: 2,\n 100000000: 1}"
     },
     "metadata": {},
     "execution_count": 14
    }
   ],
   "source": [
    "steam = pd.read_csv(\"Data/steam.csv\")\n",
    "\n",
    "counter = {}\n",
    "for row in steam[\"owners\"].values:\n",
    "    row = row.split(\"-\")[0]\n",
    "    row = int(row)\n",
    "    if row in counter.keys():\n",
    "        counter[row] += 1\n",
    "    else:\n",
    "        counter[row] = 1\n",
    "\n",
    "c = {k: v for k, v in sorted(counter.items(), key=lambda item: item[0])}\n",
    "c"
   ]
  }
 ],
 "metadata": {
  "language_info": {
   "codemirror_mode": {
    "name": "ipython",
    "version": 3
   },
   "file_extension": ".py",
   "mimetype": "text/x-python",
   "name": "python",
   "nbconvert_exporter": "python",
   "pygments_lexer": "ipython3",
   "version": "3.8.1-final"
  },
  "orig_nbformat": 2,
  "kernelspec": {
   "name": "python38164bitbfa0511ce4f348e0aa4b1d5218851d1d",
   "display_name": "Python 3.8.1 64-bit"
  }
 },
 "nbformat": 4,
 "nbformat_minor": 2
}