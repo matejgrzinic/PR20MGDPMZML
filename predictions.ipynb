{
 "cells": [
  {
   "cell_type": "code",
   "execution_count": 1,
   "metadata": {},
   "outputs": [],
   "source": [
    "import pandas as pd\n",
    "import numpy as np"
   ]
  },
  {
   "cell_type": "code",
   "execution_count": 2,
   "metadata": {},
   "outputs": [],
   "source": [
    "steam = pd.read_csv(\"Data/steam.csv\")\n"
   ]
  },
  {
   "cell_type": "code",
   "execution_count": 3,
   "metadata": {},
   "outputs": [],
   "source": [
    "from sklearn.linear_model import LinearRegression, Lasso, Ridge\n",
    "from sklearn.metrics import mean_squared_error, mean_absolute_error\n",
    "import sklearn\n",
    "from sklearn.utils import shuffle\n",
    "from sklearn import svm\n",
    "from sklearn import linear_model\n",
    "from sklearn import metrics\n",
    "from sklearn.neighbors import KNeighborsClassifier \n",
    "from sklearn.tree import DecisionTreeClassifier\n",
    "from sklearn.dummy import DummyClassifier\n",
    "from sklearn.naive_bayes import GaussianNB"
   ]
  },
  {
   "cell_type": "code",
   "execution_count": 4,
   "metadata": {},
   "outputs": [],
   "source": [
    "steam = pd.read_csv(\"Data/steam.csv\")\n",
    "#steam = steam[steam[\"owners\"] != \"0-20000\"]\n",
    "\n",
    "s = {'0-20000': 10000, '20000-50000': 35000, '50000-100000': 75000, '100000-200000': 150000, '200000-500000': 350000, '500000-1000000': 750000, '1000000-2000000': 1500000, '2000000-5000000': 3500000, '5000000-10000000': 7500000, '10000000-20000000': 15000000, '20000000-50000000': 35000000, '50000000-100000000': 75000000, '100000000-200000000': 150000000}\n",
    "\n",
    "steam[\"owners\"].replace(s, inplace=True)\n",
    "None"
   ]
  },
  {
   "cell_type": "code",
   "execution_count": 15,
   "metadata": {},
   "outputs": [
    {
     "output_type": "execute_result",
     "data": {
      "text/plain": "       platforms  \\\n0                   Valve                 Valve  windows;mac;linux   \n1                   Valve                 Valve  windows;mac;linux   \n2                   Valve                 Valve  windows;mac;linux   \n3                   Valve                 Valve  windows;mac;linux   \n4        Gearbox Software                 Valve  windows;mac;linux   \n...                   ...                   ...                ...   \n27070         SHEN JIAWEI           SHEN JIAWEI            windows   \n27071      Semyon Maximov      BekkerDev Studio            windows   \n27072         EntwicklerX           EntwicklerX            windows   \n27073  Yustas Game Studio  Alawar Entertainment        windows;mac   \n27074    Adept Studios GD  Alawar Entertainment        windows;mac   \n\n       required_age                                         categories  \\\n0                 0  Multi-player;Online Multi-Player;Local Multi-P...   \n1                 0  Multi-player;Online Multi-Player;Local Multi-P...   \n2                 0              Multi-player;Valve Anti-Cheat enabled   \n3                 0  Multi-player;Online Multi-Player;Local Multi-P...   \n4                 0  Single-player;Multi-player;Valve Anti-Cheat en...   \n...             ...                                                ...   \n27070             0                   Single-player;Steam Achievements   \n27071             0                                      Single-player   \n27072             0  Single-player;Multi-player;Co-op;Shared/Split ...   \n27073             0                          Single-player;Steam Cloud   \n27074             0                          Single-player;Steam Cloud   \n\n                       genres                 steamspy_tags  achievements  \\\n0                      Action        Action;FPS;Multiplayer             0   \n1                      Action        Action;FPS;Multiplayer             0   \n2                      Action  FPS;World War II;Multiplayer             0   \n3                      Action        Action;FPS;Multiplayer             0   \n4                      Action             FPS;Action;Sci-fi             0   \n...                       ...                           ...           ...   \n27070  Adventure;Casual;Indie        Adventure;Indie;Casual             7   \n27071  Action;Adventure;Indie        Action;Indie;Adventure             0   \n27072     Action;Casual;Indie           Action;Indie;Casual            24   \n27073  Adventure;Casual;Indie        Indie;Casual;Adventure             0   \n27074  Adventure;Casual;Indie        Indie;Casual;Adventure             0   \n\n       positive_ratings  negative_ratings  average_playtime  median_playtime  \\\n0                124534              3339             17612              317   \n1                  3318               633               277               62   \n2                  3416               398               187               34   \n3                  1273               267               258              184   \n4                  5250               288               624              415   \n...                 ...               ...               ...              ...   \n27070                 3                 0                 0                0   \n27071                 8                 1                 0                0   \n27072                 0                 1                 0                0   \n27073                 2                 0                 0                0   \n27074                 4                 0                 0                0   \n\n                  owners  price  \n0      10000000-20000000   7.19  \n1       5000000-10000000   3.99  \n2       5000000-10000000   3.99  \n3       5000000-10000000   3.99  \n4       5000000-10000000   3.99  \n...                  ...    ...  \n27070            0-20000   2.09  \n27071            0-20000   1.69  \n27072            0-20000   3.99  \n27073            0-20000   5.19  \n27074            0-20000   5.19  \n\n[27075 rows x 18 columns]",
      "text/html": "<div>\n<style scoped>\n    .dataframe tbody tr th:only-of-type {\n        vertical-align: middle;\n    }\n\n    .dataframe tbody tr th {\n        vertical-align: top;\n    }\n\n    .dataframe thead th {\n        text-align: right;\n    }\n</style>\n<table border=\"1\" class=\"dataframe\">\n  <thead>\n    <tr style=\"text-align: right;\">\n      <th></th>\n      <th>appid</th>\n      <th>name</th>\n      <th>release_date</th>\n      <th>english</th>\n      <th>developer</th>\n      <th>publisher</th>\n      <th>platforms</th>\n      <th>required_age</th>\n      <th>categories</th>\n      <th>genres</th>\n      <th>steamspy_tags</th>\n      <th>achievements</th>\n      <th>positive_ratings</th>\n      <th>negative_ratings</th>\n      <th>average_playtime</th>\n      <th>median_playtime</th>\n      <th>owners</th>\n      <th>price</th>\n    </tr>\n  </thead>\n  <tbody>\n    <tr>\n      <th>0</th>\n      <td>10</td>\n      <td>Counter-Strike</td>\n      <td>2000-11-01</td>\n      <td>1</td>\n      <td>Valve</td>\n      <td>Valve</td>\n      <td>windows;mac;linux</td>\n      <td>0</td>\n      <td>Multi-player;Online Multi-Player;Local Multi-P...</td>\n      <td>Action</td>\n      <td>Action;FPS;Multiplayer</td>\n      <td>0</td>\n      <td>124534</td>\n      <td>3339</td>\n      <td>17612</td>\n      <td>317</td>\n      <td>10000000-20000000</td>\n      <td>7.19</td>\n    </tr>\n    <tr>\n      <th>1</th>\n      <td>20</td>\n      <td>Team Fortress Classic</td>\n      <td>1999-04-01</td>\n      <td>1</td>\n      <td>Valve</td>\n      <td>Valve</td>\n      <td>windows;mac;linux</td>\n      <td>0</td>\n      <td>Multi-player;Online Multi-Player;Local Multi-P...</td>\n      <td>Action</td>\n      <td>Action;FPS;Multiplayer</td>\n      <td>0</td>\n      <td>3318</td>\n      <td>633</td>\n      <td>277</td>\n      <td>62</td>\n      <td>5000000-10000000</td>\n      <td>3.99</td>\n    </tr>\n    <tr>\n      <th>2</th>\n      <td>30</td>\n      <td>Day of Defeat</td>\n      <td>2003-05-01</td>\n      <td>1</td>\n      <td>Valve</td>\n      <td>Valve</td>\n      <td>windows;mac;linux</td>\n      <td>0</td>\n      <td>Multi-player;Valve Anti-Cheat enabled</td>\n      <td>Action</td>\n      <td>FPS;World War II;Multiplayer</td>\n      <td>0</td>\n      <td>3416</td>\n      <td>398</td>\n      <td>187</td>\n      <td>34</td>\n      <td>5000000-10000000</td>\n      <td>3.99</td>\n    </tr>\n    <tr>\n      <th>3</th>\n      <td>40</td>\n      <td>Deathmatch Classic</td>\n      <td>2001-06-01</td>\n      <td>1</td>\n      <td>Valve</td>\n      <td>Valve</td>\n      <td>windows;mac;linux</td>\n      <td>0</td>\n      <td>Multi-player;Online Multi-Player;Local Multi-P...</td>\n      <td>Action</td>\n      <td>Action;FPS;Multiplayer</td>\n      <td>0</td>\n      <td>1273</td>\n      <td>267</td>\n      <td>258</td>\n      <td>184</td>\n      <td>5000000-10000000</td>\n      <td>3.99</td>\n    </tr>\n    <tr>\n      <th>4</th>\n      <td>50</td>\n      <td>Half-Life: Opposing Force</td>\n      <td>1999-11-01</td>\n      <td>1</td>\n      <td>Gearbox Software</td>\n      <td>Valve</td>\n      <td>windows;mac;linux</td>\n      <td>0</td>\n      <td>Single-player;Multi-player;Valve Anti-Cheat en...</td>\n      <td>Action</td>\n      <td>FPS;Action;Sci-fi</td>\n      <td>0</td>\n      <td>5250</td>\n      <td>288</td>\n      <td>624</td>\n      <td>415</td>\n      <td>5000000-10000000</td>\n      <td>3.99</td>\n    </tr>\n    <tr>\n      <th>...</th>\n      <td>...</td>\n      <td>...</td>\n      <td>...</td>\n      <td>...</td>\n      <td>...</td>\n      <td>...</td>\n      <td>...</td>\n      <td>...</td>\n      <td>...</td>\n      <td>...</td>\n      <td>...</td>\n      <td>...</td>\n      <td>...</td>\n      <td>...</td>\n      <td>...</td>\n      <td>...</td>\n      <td>...</td>\n      <td>...</td>\n    </tr>\n    <tr>\n      <th>27070</th>\n      <td>1065230</td>\n      <td>Room of Pandora</td>\n      <td>2019-04-24</td>\n      <td>1</td>\n      <td>SHEN JIAWEI</td>\n      <td>SHEN JIAWEI</td>\n      <td>windows</td>\n      <td>0</td>\n      <td>Single-player;Steam Achievements</td>\n      <td>Adventure;Casual;Indie</td>\n      <td>Adventure;Indie;Casual</td>\n      <td>7</td>\n      <td>3</td>\n      <td>0</td>\n      <td>0</td>\n      <td>0</td>\n      <td>0-20000</td>\n      <td>2.09</td>\n    </tr>\n    <tr>\n      <th>27071</th>\n      <td>1065570</td>\n      <td>Cyber Gun</td>\n      <td>2019-04-23</td>\n      <td>1</td>\n      <td>Semyon Maximov</td>\n      <td>BekkerDev Studio</td>\n      <td>windows</td>\n      <td>0</td>\n      <td>Single-player</td>\n      <td>Action;Adventure;Indie</td>\n      <td>Action;Indie;Adventure</td>\n      <td>0</td>\n      <td>8</td>\n      <td>1</td>\n      <td>0</td>\n      <td>0</td>\n      <td>0-20000</td>\n      <td>1.69</td>\n    </tr>\n    <tr>\n      <th>27072</th>\n      <td>1065650</td>\n      <td>Super Star Blast</td>\n      <td>2019-04-24</td>\n      <td>1</td>\n      <td>EntwicklerX</td>\n      <td>EntwicklerX</td>\n      <td>windows</td>\n      <td>0</td>\n      <td>Single-player;Multi-player;Co-op;Shared/Split ...</td>\n      <td>Action;Casual;Indie</td>\n      <td>Action;Indie;Casual</td>\n      <td>24</td>\n      <td>0</td>\n      <td>1</td>\n      <td>0</td>\n      <td>0</td>\n      <td>0-20000</td>\n      <td>3.99</td>\n    </tr>\n    <tr>\n      <th>27073</th>\n      <td>1066700</td>\n      <td>New Yankee 7: Deer Hunters</td>\n      <td>2019-04-17</td>\n      <td>1</td>\n      <td>Yustas Game Studio</td>\n      <td>Alawar Entertainment</td>\n      <td>windows;mac</td>\n      <td>0</td>\n      <td>Single-player;Steam Cloud</td>\n      <td>Adventure;Casual;Indie</td>\n      <td>Indie;Casual;Adventure</td>\n      <td>0</td>\n      <td>2</td>\n      <td>0</td>\n      <td>0</td>\n      <td>0</td>\n      <td>0-20000</td>\n      <td>5.19</td>\n    </tr>\n    <tr>\n      <th>27074</th>\n      <td>1069460</td>\n      <td>Rune Lord</td>\n      <td>2019-04-24</td>\n      <td>1</td>\n      <td>Adept Studios GD</td>\n      <td>Alawar Entertainment</td>\n      <td>windows;mac</td>\n      <td>0</td>\n      <td>Single-player;Steam Cloud</td>\n      <td>Adventure;Casual;Indie</td>\n      <td>Indie;Casual;Adventure</td>\n      <td>0</td>\n      <td>4</td>\n      <td>0</td>\n      <td>0</td>\n      <td>0</td>\n      <td>0-20000</td>\n      <td>5.19</td>\n    </tr>\n  </tbody>\n</table>\n<p>27075 rows × 18 columns</p>\n</div>"
     },
     "metadata": {},
     "execution_count": 15
    }
   ],
   "source": [
    "steam"
   ]
  },
  {
   "cell_type": "code",
   "execution_count": 5,
   "metadata": {},
   "outputs": [],
   "source": [
    "X = steam[[\"average_playtime\", \"median_playtime\", \"price\", \"achievements\", \"positive_ratings\", \"negative_ratings\", \"required_age\", \"english\"]]\n",
    "Y = steam[\"owners\"]"
   ]
  },
  {
   "cell_type": "code",
   "execution_count": 6,
   "metadata": {},
   "outputs": [
    {
     "output_type": "execute_result",
     "data": {
      "text/plain": "(0.41327455429837795, 2206689996586.1665, 142621.7326979764)"
     },
     "metadata": {},
     "execution_count": 6
    }
   ],
   "source": [
    "x_train, x_test, y_train, y_test = sklearn.model_selection.train_test_split(X, Y, test_size=0.25)\n",
    "linear = linear_model.LinearRegression()\n",
    "linear.fit(x_train, y_train)\n",
    "hx = linear.predict(x_test)\n",
    "tmse = mean_squared_error(hx, y_test)\n",
    "tmae = mean_absolute_error(hx, y_test) \n",
    "acc = linear.score(x_test, y_test)\n",
    "(acc, tmse, tmae)"
   ]
  },
  {
   "cell_type": "code",
   "execution_count": 7,
   "metadata": {},
   "outputs": [
    {
     "output_type": "stream",
     "name": "stdout",
     "text": "0.7204756980351602 84298.49313044762\n"
    }
   ],
   "source": [
    "avg_acc = 0\n",
    "avg_mae = 0\n",
    "n = 10\n",
    "\n",
    "for _ in range(n):\n",
    "    x_train, x_test, y_train, y_test = sklearn.model_selection.train_test_split(X, Y, test_size=0.25)\n",
    "    clf = svm.SVC()\n",
    "    clf.fit(x_train, y_train)\n",
    "\n",
    "    y_pred = clf.predict(x_test)\n",
    "\n",
    "    acc = metrics.accuracy_score(y_test, y_pred)    \n",
    "    tmae = mean_absolute_error(y_pred, y_test) \n",
    "\n",
    "    avg_acc += acc   \n",
    "    avg_mae += tmae\n",
    "\n",
    "print(avg_acc/n, avg_mae/n)"
   ]
  },
  {
   "cell_type": "code",
   "execution_count": 8,
   "metadata": {},
   "outputs": [
    {
     "output_type": "stream",
     "name": "stdout",
     "text": "0.7312601565962477 83232.45678829959\n"
    }
   ],
   "source": [
    "avg_acc = 0\n",
    "avg_mae = 0\n",
    "n = 10\n",
    "\n",
    "for _ in range(n):\n",
    "    x_train, x_test, y_train, y_test = sklearn.model_selection.train_test_split(X, Y, test_size=0.25)\n",
    "\n",
    "    model = KNeighborsClassifier(3)\n",
    "    model.fit(x_train, y_train)\n",
    "\n",
    "    y_pred = model.predict(x_test)\n",
    "\n",
    "    acc = metrics.accuracy_score(y_test, y_pred)\n",
    "    tmae = mean_absolute_error(y_pred, y_test) \n",
    "\n",
    "    avg_acc += acc\n",
    "    avg_mae += tmae\n",
    "\n",
    "print(avg_acc/n, avg_mae/n)"
   ]
  },
  {
   "cell_type": "code",
   "execution_count": 9,
   "metadata": {},
   "outputs": [
    {
     "output_type": "stream",
     "name": "stdout",
     "text": "0.7435219382478947 82966.31703353523\n"
    }
   ],
   "source": [
    "avg_acc = 0\n",
    "avg_mae = 0\n",
    "n = 10\n",
    "\n",
    "for _ in range(n):\n",
    "    x_train, x_test, y_train, y_test = sklearn.model_selection.train_test_split(X, Y, test_size=0.25)\n",
    "\n",
    "    model = KNeighborsClassifier(5)\n",
    "    model.fit(x_train, y_train)\n",
    "\n",
    "    y_pred = model.predict(x_test)\n",
    "\n",
    "    acc = metrics.accuracy_score(y_test, y_pred)\n",
    "    tmae = mean_absolute_error(y_pred, y_test) \n",
    "\n",
    "    avg_acc += acc\n",
    "    avg_mae += tmae\n",
    "\n",
    "print(avg_acc/n, avg_mae/n)"
   ]
  },
  {
   "cell_type": "code",
   "execution_count": 10,
   "metadata": {},
   "outputs": [
    {
     "output_type": "stream",
     "name": "stdout",
     "text": "0.742960555473482 82552.66656817845\n"
    }
   ],
   "source": [
    "avg_acc = 0\n",
    "avg_mae = 0\n",
    "n = 10\n",
    "\n",
    "for _ in range(n):\n",
    "    x_train, x_test, y_train, y_test = sklearn.model_selection.train_test_split(X, Y, test_size=0.25)\n",
    "\n",
    "    model = KNeighborsClassifier(7)\n",
    "    model.fit(x_train, y_train)\n",
    "\n",
    "    y_pred = model.predict(x_test)\n",
    "\n",
    "    acc = metrics.accuracy_score(y_test, y_pred)\n",
    "    tmae = mean_absolute_error(y_pred, y_test) \n",
    "\n",
    "    avg_acc += acc\n",
    "    avg_mae += tmae\n",
    "\n",
    "print(avg_acc/n, avg_mae/n)"
   ]
  },
  {
   "cell_type": "code",
   "execution_count": 11,
   "metadata": {},
   "outputs": [
    {
     "output_type": "stream",
     "name": "stdout",
     "text": "0.7240508199143153 85879.81976658295\n"
    }
   ],
   "source": [
    "avg_acc = 0\n",
    "avg_mae = 0\n",
    "n = 10\n",
    "\n",
    "for _ in range(n):\n",
    "    x_train, x_test, y_train, y_test = sklearn.model_selection.train_test_split(X, Y, test_size=0.25)\n",
    "\n",
    "    model = DecisionTreeClassifier(criterion=\"entropy\", max_depth=None)\n",
    "    model.fit(x_train, y_train)\n",
    "\n",
    "    y_pred = model.predict(x_test)\n",
    "\n",
    "    acc = metrics.accuracy_score(y_test, y_pred)\n",
    "    tmae = mean_absolute_error(y_pred, y_test) \n",
    "    \n",
    "    avg_acc += acc   \n",
    "    avg_mae += tmae\n",
    "\n",
    "print(avg_acc/n, avg_mae/n)"
   ]
  },
  {
   "cell_type": "code",
   "execution_count": 12,
   "metadata": {},
   "outputs": [
    {
     "output_type": "stream",
     "name": "stdout",
     "text": "0.7229576008273009 97436.25350864234\n"
    }
   ],
   "source": [
    "avg_acc = 0\n",
    "avg_mae = 0\n",
    "n = 10\n",
    "\n",
    "for _ in range(n):\n",
    "    x_train, x_test, y_train, y_test = sklearn.model_selection.train_test_split(X, Y, test_size=0.25)\n",
    "\n",
    "    model = GaussianNB()\n",
    "    model.fit(x_train, y_train)\n",
    "\n",
    "    y_pred = model.predict(x_test)\n",
    "\n",
    "    acc = metrics.accuracy_score(y_test, y_pred)\n",
    "    tmae = mean_absolute_error(y_pred, y_test) \n",
    "\n",
    "    avg_acc += acc\n",
    "    avg_mae += tmae\n",
    "\n",
    "print(avg_acc/n, avg_mae/n)"
   ]
  },
  {
   "cell_type": "code",
   "execution_count": 13,
   "metadata": {},
   "outputs": [
    {
     "output_type": "stream",
     "name": "stdout",
     "text": "0.6798640862756685 110754.91209927612\n"
    }
   ],
   "source": [
    "x_train, x_test, y_train, y_test = sklearn.model_selection.train_test_split(X, Y, test_size=0.25)\n",
    "\n",
    "model = DummyClassifier(strategy=\"most_frequent\")\n",
    "model.fit(x_train, y_train)\n",
    "\n",
    "y_pred = model.predict(x_test)\n",
    "\n",
    "acc = metrics.accuracy_score(y_test, y_pred)\n",
    "tmae = mean_absolute_error(y_pred, y_test) \n",
    "print(acc, tmae)"
   ]
  },
  {
   "cell_type": "code",
   "execution_count": 33,
   "metadata": {
    "tags": [
     "outputPrepend",
     "outputPrepend",
     "outputPrepend",
     "outputPrepend",
     "outputPrepend",
     "outputPrepend",
     "outputPrepend",
     "outputPrepend"
    ]
   },
   "outputs": [
    {
     "output_type": "execute_result",
     "data": {
      "text/plain": "{'0-20000': 18596,\n '20000-50000': 3059,\n '50000-100000': 1695,\n '100000-200000': 1386,\n '200000-500000': 1272,\n '500000-1000000': 513,\n '1000000-2000000': 288,\n '2000000-5000000': 193,\n '5000000-10000000': 46,\n '10000000-20000000': 21,\n '20000000-50000000': 3,\n '50000000-100000000': 2,\n '100000000-200000000': 1}"
     },
     "metadata": {},
     "execution_count": 33
    }
   ],
   "source": [
    "steam = pd.read_csv(\"Data/steam.csv\")\n",
    "\n",
    "counter = {}\n",
    "for row in steam[\"owners\"].values:\n",
    "    # row = row.split(\"-\")[1]\n",
    "    # row = int(row)\n",
    "    if row in counter.keys():\n",
    "        counter[row] += 1\n",
    "    else:\n",
    "        counter[row] = 1\n",
    "\n",
    "c = {k: v for k, v in sorted(counter.items(), key=lambda item: int(item[0].split(\"-\")[0]))}\n",
    "c"
   ]
  }
 ],
 "metadata": {
  "language_info": {
   "codemirror_mode": {
    "name": "ipython",
    "version": 3
   },
   "file_extension": ".py",
   "mimetype": "text/x-python",
   "name": "python",
   "nbconvert_exporter": "python",
   "pygments_lexer": "ipython3",
   "version": "3.8.2-final"
  },
  "orig_nbformat": 2,
  "kernelspec": {
   "name": "python38232bitc4016842fc2e4c2bb926363fc89d16ef",
   "display_name": "Python 3.8.2 32-bit"
  }
 },
 "nbformat": 4,
 "nbformat_minor": 2
}