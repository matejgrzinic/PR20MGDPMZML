{
 "cells": [
  {
   "cell_type": "markdown",
   "metadata": {
    "lang": "sl"
   },
   "source": [
    "## Projektna naloga\n",
    "\n",
    "Podatkovno rudarjenje, naloga, `DATUM`  \n",
    "**`Metod Zupančič`**"
   ]
  },
  {
   "cell_type": "markdown",
   "metadata": {
    "lang": "sl"
   },
   "source": [
    "### Podatki"
   ]
  },
  {
   "cell_type": "markdown",
   "metadata": {
    "lang": "sl"
   },
   "source": [
    "### Vprašanja"
   ]
  },
  {
   "cell_type": "markdown",
   "metadata": {
    "lang": "sl"
   },
   "source": [
    "#### \n",
    "1. Keri filmi so najboljši?\n",
    "2. Predstavitev žanrov, histogram žanrov\n",
    "3. Nek scatter plot, cena v odvisnosti od časa +dodatno(odvisnosti na karkoli drugega zanimivega)\n",
    "4. Najbolj popularni developerji\n",
    "\n"
   ]
  },
  {
   "cell_type": "code",
   "execution_count": 9,
   "metadata": {},
   "outputs": [],
   "source": [
    "import pandas as pd\n",
    "import numpy as np\n",
    "import matplotlib as plt\n",
    "\n",
    "description = pd.read_csv(\"Data/steam_description_data.csv\")\n",
    "media = pd.read_csv(\"Data/steam_media_data.csv\")\n",
    "requirements = pd.read_csv(\"Data/steam_requirements_data.csv\")\n",
    "support = pd.read_csv(\"Data/steam_support_info.csv\")\n",
    "steam = pd.read_csv(\"Data/steam.csv\")\n",
    "tag = pd.read_csv(\"Data/steamspy_tag_data.csv\")"
   ]
  },
  {
   "cell_type": "code",
   "execution_count": 12,
   "metadata": {},
   "outputs": [
    {
     "output_type": "execute_result",
     "data": {
      "text/plain": "   steam_appid                               detailed_description  \\\n0           10  Play the world's number 1 online action game. ...   \n1           20  One of the most popular online action games of...   \n2           30  Enlist in an intense brand of Axis vs. Allied ...   \n3           40  Enjoy fast-paced multiplayer gaming with Death...   \n4           50  Return to the Black Mesa Research Facility as ...   \n\n                                      about_the_game  \\\n0  Play the world's number 1 online action game. ...   \n1  One of the most popular online action games of...   \n2  Enlist in an intense brand of Axis vs. Allied ...   \n3  Enjoy fast-paced multiplayer gaming with Death...   \n4  Return to the Black Mesa Research Facility as ...   \n\n                                   short_description  \n0  Play the world's number 1 online action game. ...  \n1  One of the most popular online action games of...  \n2  Enlist in an intense brand of Axis vs. Allied ...  \n3  Enjoy fast-paced multiplayer gaming with Death...  \n4  Return to the Black Mesa Research Facility as ...  ",
      "text/html": "<div>\n<style scoped>\n    .dataframe tbody tr th:only-of-type {\n        vertical-align: middle;\n    }\n\n    .dataframe tbody tr th {\n        vertical-align: top;\n    }\n\n    .dataframe thead th {\n        text-align: right;\n    }\n</style>\n<table border=\"1\" class=\"dataframe\">\n  <thead>\n    <tr style=\"text-align: right;\">\n      <th></th>\n      <th>steam_appid</th>\n      <th>detailed_description</th>\n      <th>about_the_game</th>\n      <th>short_description</th>\n    </tr>\n  </thead>\n  <tbody>\n    <tr>\n      <th>0</th>\n      <td>10</td>\n      <td>Play the world's number 1 online action game. ...</td>\n      <td>Play the world's number 1 online action game. ...</td>\n      <td>Play the world's number 1 online action game. ...</td>\n    </tr>\n    <tr>\n      <th>1</th>\n      <td>20</td>\n      <td>One of the most popular online action games of...</td>\n      <td>One of the most popular online action games of...</td>\n      <td>One of the most popular online action games of...</td>\n    </tr>\n    <tr>\n      <th>2</th>\n      <td>30</td>\n      <td>Enlist in an intense brand of Axis vs. Allied ...</td>\n      <td>Enlist in an intense brand of Axis vs. Allied ...</td>\n      <td>Enlist in an intense brand of Axis vs. Allied ...</td>\n    </tr>\n    <tr>\n      <th>3</th>\n      <td>40</td>\n      <td>Enjoy fast-paced multiplayer gaming with Death...</td>\n      <td>Enjoy fast-paced multiplayer gaming with Death...</td>\n      <td>Enjoy fast-paced multiplayer gaming with Death...</td>\n    </tr>\n    <tr>\n      <th>4</th>\n      <td>50</td>\n      <td>Return to the Black Mesa Research Facility as ...</td>\n      <td>Return to the Black Mesa Research Facility as ...</td>\n      <td>Return to the Black Mesa Research Facility as ...</td>\n    </tr>\n  </tbody>\n</table>\n</div>"
     },
     "metadata": {},
     "execution_count": 12
    }
   ],
   "source": [
    "description.head()"
   ]
  },
  {
   "cell_type": "code",
   "execution_count": 14,
   "metadata": {},
   "outputs": [
    {
     "output_type": "execute_result",
     "data": {
      "text/plain": "   steam_appid                                    pc_requirements  \\\n0           10  {'minimum': '\\r\\n\\t\\t\\t<p><strong>Minimum:</st...   \n1           20  {'minimum': '\\r\\n\\t\\t\\t<p><strong>Minimum:</st...   \n2           30  {'minimum': '\\r\\n\\t\\t\\t<p><strong>Minimum:</st...   \n3           40  {'minimum': '\\r\\n\\t\\t\\t<p><strong>Minimum:</st...   \n4           50  {'minimum': '\\r\\n\\t\\t\\t<p><strong>Minimum:</st...   \n\n                                    mac_requirements  \\\n0  {'minimum': 'Minimum: OS X  Snow Leopard 10.6....   \n1  {'minimum': 'Minimum: OS X  Snow Leopard 10.6....   \n2  {'minimum': 'Minimum: OS X  Snow Leopard 10.6....   \n3  {'minimum': 'Minimum: OS X  Snow Leopard 10.6....   \n4  {'minimum': 'Minimum: OS X  Snow Leopard 10.6....   \n\n                                  linux_requirements  \\\n0  {'minimum': 'Minimum: Linux Ubuntu 12.04, Dual...   \n1  {'minimum': 'Minimum: Linux Ubuntu 12.04, Dual...   \n2  {'minimum': 'Minimum: Linux Ubuntu 12.04, Dual...   \n3  {'minimum': 'Minimum: Linux Ubuntu 12.04, Dual...   \n4  {'minimum': 'Minimum: Linux Ubuntu 12.04, Dual...   \n\n                                             minimum recommended  \n0  500 mhz processor, 96mb ram, 16mb video card, ...         NaN  \n1  500 mhz processor, 96mb ram, 16mb video card, ...         NaN  \n2  500 mhz processor, 96mb ram, 16mb video card, ...         NaN  \n3  500 mhz processor, 96mb ram, 16mb video card, ...         NaN  \n4  500 mhz processor, 96mb ram, 16mb video card, ...         NaN  ",
      "text/html": "<div>\n<style scoped>\n    .dataframe tbody tr th:only-of-type {\n        vertical-align: middle;\n    }\n\n    .dataframe tbody tr th {\n        vertical-align: top;\n    }\n\n    .dataframe thead th {\n        text-align: right;\n    }\n</style>\n<table border=\"1\" class=\"dataframe\">\n  <thead>\n    <tr style=\"text-align: right;\">\n      <th></th>\n      <th>steam_appid</th>\n      <th>pc_requirements</th>\n      <th>mac_requirements</th>\n      <th>linux_requirements</th>\n      <th>minimum</th>\n      <th>recommended</th>\n    </tr>\n  </thead>\n  <tbody>\n    <tr>\n      <th>0</th>\n      <td>10</td>\n      <td>{'minimum': '\\r\\n\\t\\t\\t&lt;p&gt;&lt;strong&gt;Minimum:&lt;/st...</td>\n      <td>{'minimum': 'Minimum: OS X  Snow Leopard 10.6....</td>\n      <td>{'minimum': 'Minimum: Linux Ubuntu 12.04, Dual...</td>\n      <td>500 mhz processor, 96mb ram, 16mb video card, ...</td>\n      <td>NaN</td>\n    </tr>\n    <tr>\n      <th>1</th>\n      <td>20</td>\n      <td>{'minimum': '\\r\\n\\t\\t\\t&lt;p&gt;&lt;strong&gt;Minimum:&lt;/st...</td>\n      <td>{'minimum': 'Minimum: OS X  Snow Leopard 10.6....</td>\n      <td>{'minimum': 'Minimum: Linux Ubuntu 12.04, Dual...</td>\n      <td>500 mhz processor, 96mb ram, 16mb video card, ...</td>\n      <td>NaN</td>\n    </tr>\n    <tr>\n      <th>2</th>\n      <td>30</td>\n      <td>{'minimum': '\\r\\n\\t\\t\\t&lt;p&gt;&lt;strong&gt;Minimum:&lt;/st...</td>\n      <td>{'minimum': 'Minimum: OS X  Snow Leopard 10.6....</td>\n      <td>{'minimum': 'Minimum: Linux Ubuntu 12.04, Dual...</td>\n      <td>500 mhz processor, 96mb ram, 16mb video card, ...</td>\n      <td>NaN</td>\n    </tr>\n    <tr>\n      <th>3</th>\n      <td>40</td>\n      <td>{'minimum': '\\r\\n\\t\\t\\t&lt;p&gt;&lt;strong&gt;Minimum:&lt;/st...</td>\n      <td>{'minimum': 'Minimum: OS X  Snow Leopard 10.6....</td>\n      <td>{'minimum': 'Minimum: Linux Ubuntu 12.04, Dual...</td>\n      <td>500 mhz processor, 96mb ram, 16mb video card, ...</td>\n      <td>NaN</td>\n    </tr>\n    <tr>\n      <th>4</th>\n      <td>50</td>\n      <td>{'minimum': '\\r\\n\\t\\t\\t&lt;p&gt;&lt;strong&gt;Minimum:&lt;/st...</td>\n      <td>{'minimum': 'Minimum: OS X  Snow Leopard 10.6....</td>\n      <td>{'minimum': 'Minimum: Linux Ubuntu 12.04, Dual...</td>\n      <td>500 mhz processor, 96mb ram, 16mb video card, ...</td>\n      <td>NaN</td>\n    </tr>\n  </tbody>\n</table>\n</div>"
     },
     "metadata": {},
     "execution_count": 14
    }
   ],
   "source": [
    "#Lahko bi naredil normalno porazdelitev requirementsou, in pol vidimo kolk je povprečno zahtevna igrca itd.\n",
    "requirements.head()"
   ]
  },
  {
   "cell_type": "code",
   "execution_count": 22,
   "metadata": {},
   "outputs": [
    {
     "output_type": "execute_result",
     "data": {
      "text/plain": "   appid  1980s  1990s  2.5d  2d  2d_fighter  360_video  3d  3d_platformer  \\\n0     10    144    564     0   0           0          0   0              0   \n1     20      0     71     0   0           0          0   0              0   \n2     30      0      0     0   0           0          0   0              0   \n3     40      0      0     0   0           0          0   0              0   \n4     50      0     77     0   0           0          0   0              0   \n\n   3d_vision  ...  warhammer_40k  web_publishing  werewolves  western  \\\n0          0  ...              0               0           0        0   \n1          0  ...              0               0           0        0   \n2          0  ...              0               0           0        0   \n3          0  ...              0               0           0        0   \n4          0  ...              0               0           0        0   \n\n   word_game  world_war_i  world_war_ii  wrestling  zombies  e_sports  \n0          0            0             0          0        0       550  \n1          0            0             0          0        0         0  \n2          0            5           122          0        0         0  \n3          0            0             0          0        0         0  \n4          0            0             0          0        0         0  \n\n[5 rows x 372 columns]",
      "text/html": "<div>\n<style scoped>\n    .dataframe tbody tr th:only-of-type {\n        vertical-align: middle;\n    }\n\n    .dataframe tbody tr th {\n        vertical-align: top;\n    }\n\n    .dataframe thead th {\n        text-align: right;\n    }\n</style>\n<table border=\"1\" class=\"dataframe\">\n  <thead>\n    <tr style=\"text-align: right;\">\n      <th></th>\n      <th>appid</th>\n      <th>1980s</th>\n      <th>1990s</th>\n      <th>2.5d</th>\n      <th>2d</th>\n      <th>2d_fighter</th>\n      <th>360_video</th>\n      <th>3d</th>\n      <th>3d_platformer</th>\n      <th>3d_vision</th>\n      <th>...</th>\n      <th>warhammer_40k</th>\n      <th>web_publishing</th>\n      <th>werewolves</th>\n      <th>western</th>\n      <th>word_game</th>\n      <th>world_war_i</th>\n      <th>world_war_ii</th>\n      <th>wrestling</th>\n      <th>zombies</th>\n      <th>e_sports</th>\n    </tr>\n  </thead>\n  <tbody>\n    <tr>\n      <th>0</th>\n      <td>10</td>\n      <td>144</td>\n      <td>564</td>\n      <td>0</td>\n      <td>0</td>\n      <td>0</td>\n      <td>0</td>\n      <td>0</td>\n      <td>0</td>\n      <td>0</td>\n      <td>...</td>\n      <td>0</td>\n      <td>0</td>\n      <td>0</td>\n      <td>0</td>\n      <td>0</td>\n      <td>0</td>\n      <td>0</td>\n      <td>0</td>\n      <td>0</td>\n      <td>550</td>\n    </tr>\n    <tr>\n      <th>1</th>\n      <td>20</td>\n      <td>0</td>\n      <td>71</td>\n      <td>0</td>\n      <td>0</td>\n      <td>0</td>\n      <td>0</td>\n      <td>0</td>\n      <td>0</td>\n      <td>0</td>\n      <td>...</td>\n      <td>0</td>\n      <td>0</td>\n      <td>0</td>\n      <td>0</td>\n      <td>0</td>\n      <td>0</td>\n      <td>0</td>\n      <td>0</td>\n      <td>0</td>\n      <td>0</td>\n    </tr>\n    <tr>\n      <th>2</th>\n      <td>30</td>\n      <td>0</td>\n      <td>0</td>\n      <td>0</td>\n      <td>0</td>\n      <td>0</td>\n      <td>0</td>\n      <td>0</td>\n      <td>0</td>\n      <td>0</td>\n      <td>...</td>\n      <td>0</td>\n      <td>0</td>\n      <td>0</td>\n      <td>0</td>\n      <td>0</td>\n      <td>5</td>\n      <td>122</td>\n      <td>0</td>\n      <td>0</td>\n      <td>0</td>\n    </tr>\n    <tr>\n      <th>3</th>\n      <td>40</td>\n      <td>0</td>\n      <td>0</td>\n      <td>0</td>\n      <td>0</td>\n      <td>0</td>\n      <td>0</td>\n      <td>0</td>\n      <td>0</td>\n      <td>0</td>\n      <td>...</td>\n      <td>0</td>\n      <td>0</td>\n      <td>0</td>\n      <td>0</td>\n      <td>0</td>\n      <td>0</td>\n      <td>0</td>\n      <td>0</td>\n      <td>0</td>\n      <td>0</td>\n    </tr>\n    <tr>\n      <th>4</th>\n      <td>50</td>\n      <td>0</td>\n      <td>77</td>\n      <td>0</td>\n      <td>0</td>\n      <td>0</td>\n      <td>0</td>\n      <td>0</td>\n      <td>0</td>\n      <td>0</td>\n      <td>...</td>\n      <td>0</td>\n      <td>0</td>\n      <td>0</td>\n      <td>0</td>\n      <td>0</td>\n      <td>0</td>\n      <td>0</td>\n      <td>0</td>\n      <td>0</td>\n      <td>0</td>\n    </tr>\n  </tbody>\n</table>\n<p>5 rows × 372 columns</p>\n</div>"
     },
     "metadata": {},
     "execution_count": 22
    }
   ],
   "source": [
    "tag.head()"
   ]
  }
 ],
 "metadata": {
  "kernelspec": {
   "display_name": "Python 3.8.2 32-bit",
   "language": "python",
   "name": "python38232bitc4016842fc2e4c2bb926363fc89d16ef"
  },
  "language_info": {
   "codemirror_mode": {
    "name": "ipython",
    "version": 3
   },
   "file_extension": ".py",
   "mimetype": "text/x-python",
   "name": "python",
   "nbconvert_exporter": "python",
   "pygments_lexer": "ipython3",
   "version": "3.8.2-final"
  },
  "latex_envs": {
   "LaTeX_envs_menu_present": true,
   "autocomplete": true,
   "bibliofile": "biblio.bib",
   "cite_by": "apalike",
   "current_citInitial": 1,
   "eqLabelWithNumbers": true,
   "eqNumInitial": 1,
   "hotkeys": {
    "equation": "Ctrl-E",
    "itemize": "Ctrl-I"
   },
   "labels_anchors": false,
   "latex_user_defs": false,
   "report_style_numbering": false,
   "user_envs_cfg": false
  },
  "nbTranslate": {
   "displayLangs": [
    "sl"
   ],
   "hotkey": "alt-t",
   "langInMainMenu": true,
   "sourceLang": "sl",
   "targetLang": "en",
   "useGoogleTranslate": true
  }
 },
 "nbformat": 4,
 "nbformat_minor": 2
}